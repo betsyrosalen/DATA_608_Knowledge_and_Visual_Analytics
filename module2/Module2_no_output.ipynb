{
 "cells": [
  {
   "cell_type": "code",
   "execution_count": null,
   "metadata": {
    "scrolled": false
   },
   "outputs": [],
   "source": [
    "import datashader as ds\n",
    "import datashader.transfer_functions as tf\n",
    "import datashader.glyphs\n",
    "from datashader import reductions\n",
    "from datashader.core import bypixel\n",
    "from datashader.utils import lnglat_to_meters as webm, export_image\n",
    "from datashader.colors import colormap_select, Greys9, viridis, inferno\n",
    "import copy\n",
    "\n",
    "\n",
    "from pyproj import Proj, transform\n",
    "import numpy as np\n",
    "import pandas as pd\n",
    "import urllib\n",
    "import json\n",
    "import datetime\n",
    "import colorlover as cl\n",
    "\n",
    "import plotly.offline as py\n",
    "import plotly.graph_objs as go\n",
    "from plotly import tools\n",
    "\n",
    "from shapely.geometry import Point, Polygon, shape\n",
    "# In order to get shapley, you'll need to run [pip install shapely.geometry] from your terminal\n",
    "\n",
    "from functools import partial\n",
    "\n",
    "from IPython.display import GeoJSON\n",
    "\n",
    "py.init_notebook_mode()"
   ]
  },
  {
   "cell_type": "markdown",
   "metadata": {},
   "source": [
    "For module 2 we'll be looking at techniques for dealing with big data. In particular binning strategies and the datashader library (which possibly proves we'll never need to bin large data for visualization ever again.)\n",
    "\n",
    "To demonstrate these concepts we'll be looking at the PLUTO dataset put out by New York City's department of city planning. PLUTO contains data about every tax lot in New York City.\n",
    "\n",
    "PLUTO data can be downloaded from [here](https://www1.nyc.gov/assets/planning/download/zip/data-maps/open-data/nyc_pluto_18v2_csv.zip). Unzip them to the same directory as this notebook, and you should be able to read them in using this (or very similar) code. Also take note of the data dictionary, it'll come in handy for this assignment."
   ]
  },
  {
   "cell_type": "code",
   "execution_count": null,
   "metadata": {
    "scrolled": false
   },
   "outputs": [],
   "source": [
    "# Code to read in v17, column names have been updated (without upper case letters) for v18\n",
    "\n",
    "# bk = pd.read_csv('PLUTO17v1.1/BK2017V11.csv')\n",
    "# bx = pd.read_csv('PLUTO17v1.1/BX2017V11.csv')\n",
    "# mn = pd.read_csv('PLUTO17v1.1/MN2017V11.csv')\n",
    "# qn = pd.read_csv('PLUTO17v1.1/QN2017V11.csv')\n",
    "# si = pd.read_csv('PLUTO17v1.1/SI2017V11.csv')\n",
    "\n",
    "# ny = pd.concat([bk, bx, mn, qn, si], ignore_index=True)\n",
    "\n",
    "ny = pd.read_csv('nyc_pluto_18v2_csv/pluto_18v2.csv', low_memory=False) # Warning said to use 'low_memory=False' but I really have no idea why...\n",
    "\n",
    "\n",
    "# Getting rid of some outliers\n",
    "ny = ny[(ny['yearbuilt'] > 1850) & (ny['yearbuilt'] < 2020) & (ny['numfloors'] != 0)]"
   ]
  },
  {
   "cell_type": "markdown",
   "metadata": {},
   "source": [
    "I'll also do some prep for the geographic component of this data, which we'll be relying on for datashader.\n",
    "\n",
    "You're not required to know how I'm retrieving the lattitude and longitude here, but for those interested: this dataset uses a flat x-y projection (assuming for a small enough area that the world is flat for easier calculations), and this needs to be projected back to traditional lattitude and longitude."
   ]
  },
  {
   "cell_type": "code",
   "execution_count": null,
   "metadata": {
    "scrolled": false
   },
   "outputs": [],
   "source": [
    "\n",
    "\n",
    "wgs84 = Proj(\"+proj=longlat +ellps=GRS80 +datum=NAD83 +no_defs\")\n",
    "nyli = Proj(\"+proj=lcc +lat_1=40.66666666666666 +lat_2=41.03333333333333 +lat_0=40.16666666666666 +lon_0=-74 +x_0=300000 +y_0=0 +ellps=GRS80 +datum=NAD83 +to_meter=0.3048006096012192 +no_defs\")\n",
    "ny['xcoord'] = 0.3048*ny['xcoord']\n",
    "ny['ycoord'] = 0.3048*ny['ycoord']\n",
    "ny['lon'], ny['lat'] = transform(nyli, wgs84, ny['xcoord'].values, ny['ycoord'].values)\n",
    "\n",
    "ny = ny[(ny['lon'] < -60) & (ny['lon'] > -100) & (ny['lat'] < 60) & (ny['lat'] > 20)]\n",
    "\n",
    "#Defining some helper functions for DataShader\n",
    "background = \"black\"\n",
    "export = partial(export_image, background = background, export_path=\"export\")\n",
    "cm = partial(colormap_select, reverse=(background!=\"black\"))"
   ]
  },
  {
   "cell_type": "markdown",
   "metadata": {},
   "source": [
    "# Part 1: Binning and Aggregation\n",
    "\n",
    "Binning is a common strategy for visualizing large datasets. Binning is inherent to a few types of visualizations, such as histograms and [2D histograms](https://plot.ly/python/2D-Histogram/) (also check out their close relatives: [2D density plots](https://plot.ly/python/2d-density-plots/) and the more general form: [heatmaps](https://plot.ly/python/heatmaps/).\n",
    "\n",
    "While these visualization types explicitly include binning, any type of visualization used with aggregated data can be looked at in the same way. For example, lets say we wanted to look at building construction over time. This would be best viewed as a line graph, but we can still think of our results as being binned by year:"
   ]
  },
  {
   "cell_type": "code",
   "execution_count": null,
   "metadata": {
    "scrolled": false
   },
   "outputs": [],
   "source": [
    "trace = go.Scatter(\n",
    "    # I'm choosing BBL here because I know it's a unique key.\n",
    "    x = ny.groupby('yearbuilt').count()['bbl'].index,\n",
    "    y = ny.groupby('yearbuilt').count()['bbl']\n",
    ")\n",
    "\n",
    "layout = go.Layout(\n",
    "    xaxis = dict(title = 'Year Built'),\n",
    "    yaxis = dict(title = 'Number of Lots Built')\n",
    ")\n",
    "\n",
    "fig = go.Figure(data = [trace], layout = layout)\n",
    "\n",
    "py.iplot(fig)"
   ]
  },
  {
   "cell_type": "markdown",
   "metadata": {},
   "source": [
    "Something looks off... You're going to have to deal with this imperfect data to answer this first question. \n",
    "\n",
    "But first: some notes on pandas. Pandas dataframes are a different beast than R dataframes, here are some tips to help you get up to speed:\n",
    "\n",
    "---\n",
    "\n",
    "Hello all, here are some pandas tips to help you guys through this homework:\n",
    "\n",
    "[Indexing and Selecting](https://pandas.pydata.org/pandas-docs/stable/indexing.html): .loc and .iloc are the analogs for base R subsetting, or filter() in dplyr\n",
    "\n",
    "[Group By](https://pandas.pydata.org/pandas-docs/stable/groupby.html):  This is the pandas analog to group_by() and the appended function the analog to summarize(). Try out a few examples of this, and display the results in Jupyter. Take note of what's happening to the indexes, you'll notice that they'll become hierarchical. I personally find this more of a burden than a help, and this sort of hierarchical indexing leads to a fundamentally different experience compared to R dataframes. Once you perform an aggregation, try running the resulting hierarchical datafrome through a [reset_index()](https://pandas.pydata.org/pandas-docs/stable/generated/pandas.DataFrame.reset_index.html).\n",
    "\n",
    "[Reset_index](https://pandas.pydata.org/pandas-docs/stable/generated/pandas.DataFrame.reset_index.html): I personally find the hierarchical indexes more of a burden than a help, and this sort of hierarchical indexing leads to a fundamentally different experience compared to R dataframes. reset_index() is a way of restoring a dataframe to a flatter index style. Grouping is where you'll notice it the most, but it's also useful when you filter data, and in a few other split-apply-combine workflows. With pandas indexes are more meaningful, so use this if you start getting unexpected results.\n",
    "\n",
    "Indexes are more important in Pandas than in R. If you delve deeper into the using python for data science, you'll begin to see the benefits in many places (despite the personal gripes I highlighted above.) One place these indexes come in handy is with time series data. The pandas docs have a [huge section](http://pandas.pydata.org/pandas-docs/stable/timeseries.html) on datetime indexing. In particular, check out [resample](https://pandas.pydata.org/pandas-docs/stable/generated/pandas.DataFrame.resample.html), which provides time series specific aggregation.\n",
    "\n",
    "[Merging, joining, and concatenation](https://pandas.pydata.org/pandas-docs/stable/merging.html): There's some overlap between these different types of merges, so use this as your guide. Concat is a single function that replaces cbind and rbind in R, and the results are driven by the indexes. Read through these examples to get a feel on how these are performed, but you will have to manage your indexes when you're using these functions. Merges are fairly similar to merges in R, similarly mapping to SQL joins.\n",
    "\n",
    "Apply: This is explained in the \"group by\" section linked above. These are your analogs to the plyr library in R. Take note of the lambda syntax used here, these are anonymous functions in python. Rather than predefining a custom function, you can just define it inline using lambda.\n",
    "\n",
    "Browse through the other sections for some other specifics, in particular reshaping and categorical data (pandas' answer to factors.) Pandas can take a while to get used to, but it is a pretty strong framework that makes more advanced functions easier once you get used to it. Rolling functions for example follow logically from the apply workflow (and led to the best google results ever when I first tried to find this out and googled \"pandas rolling\")\n",
    "\n",
    "Google Wes Mckinney's book \"Python for Data Analysis,\" which is a cookbook style intro to pandas. It's an O'Reilly book that should be pretty available out there.\n",
    "\n",
    "---\n",
    "\n",
    "### Question\n",
    "\n",
    "After a few building collapses, the City of New York is going to begin investigating older buildings for safety. The city is particularly worried about buildings that were unusually tall when they were built, since best-practices for safety hadn’t yet been determined. Create a graph that shows how many buildings of a certain number of floors were built in each year (note: you may want to use a log scale for the number of buildings). Find a strategy to bin buildings (It should be clear 20-29-story buildings, 30-39-story buildings, and 40-49-story buildings were first built in large numbers, but does it make sense to continue in this way as you get taller?)"
   ]
  },
  {
   "cell_type": "markdown",
   "metadata": {},
   "source": [
    "### Binning Data\n",
    "\n",
    "I spent an insane amount of time trying different methods of binning and grouping data and had a lot of trouble getting the data into the format needed in order to be able to plot in plotly.  I left a lot of the code below even though some of it wasn't really needed in order to show what I tried and keep as notes for future reference.\n",
    "\n",
    "I binned data for the number of floors and for the decade in which a building was constructed and added those as new columns to the original dataframe as well as creating grouped aggragated dataframes with the same bins.  \n",
    "\n",
    "I discoverd after MANY failures that in order to plot the data in plotly any categorical variables MUST have labels. Unlabeled columns just would not plot even if coverted to a list or series.  Indexes also had to be converted to columns with labels if they were categorical."
   ]
  },
  {
   "cell_type": "markdown",
   "metadata": {},
   "source": [
    "#### Number of Floors"
   ]
  },
  {
   "cell_type": "code",
   "execution_count": null,
   "metadata": {
    "scrolled": false
   },
   "outputs": [],
   "source": [
    "# Start your answer here, inserting more cells as you go along\n",
    "\n",
    "#ny[['numfloors','yearbuilt']][1:5]\n",
    "#ny.groupby('yearbuilt').count()['bbl'].index\n",
    "\n",
    "bins1 = [0, 1, 2, 3, 4, 5, 10, 15, 20, 25, 30, 35, 40, 45, 60, 75, 150, 300]\n",
    "labels1 = ['1', '2', '3', '4', '5', '6-10', '11-15', '16-20', '21-25', '26-30', '31-35', '36-40', '41-45', '46-60', '61-75', '76-150', '151-300']\n",
    "floors = pd.cut(ny['numfloors'], bins1, labels=labels1)\n",
    "\n",
    "ny['numfloors_bins'] = floors\n",
    "ny['numfloors_bins'].head()"
   ]
  },
  {
   "cell_type": "markdown",
   "metadata": {},
   "source": [
    "##### Changed the code above and then updated the chart below to test different bin sizes and find appropriate cutoffs"
   ]
  },
  {
   "cell_type": "code",
   "execution_count": null,
   "metadata": {
    "scrolled": false
   },
   "outputs": [],
   "source": [
    "Floors = pd.DataFrame(ny['numfloors'].groupby(floors).count())\n",
    "Floors.columns = ['count']\n",
    "Floors.reset_index(inplace=True)\n",
    "Floors"
   ]
  },
  {
   "cell_type": "markdown",
   "metadata": {},
   "source": [
    "##### Test plot to make sure this works...\n",
    "\n",
    "I also wanted to get an idea of the distribution of different size buildings.  The plot makes it clear that it will probably be necessary to log transform the data to see the distributions later since the bin for 2 story buildings is more than twice the size of any of the others and it can't be cut any smaller."
   ]
  },
  {
   "cell_type": "code",
   "execution_count": null,
   "metadata": {
    "scrolled": false
   },
   "outputs": [],
   "source": [
    "trace = go.Bar(\n",
    "    # I'm choosing BBL here because I know it's a unique key.\n",
    "    x = ny.groupby('numfloors_bins').count()['bbl'].index,\n",
    "    y = ny.groupby('numfloors_bins').count()['bbl']\n",
    ")\n",
    "\n",
    "layout = go.Layout(\n",
    "    xaxis = dict(title = 'numfloors_bins'),\n",
    "    yaxis = dict(title = 'Number of Lots Built')\n",
    ")\n",
    "\n",
    "fig = go.Figure(data = [trace], layout = layout)\n",
    "\n",
    "py.iplot(fig)"
   ]
  },
  {
   "cell_type": "markdown",
   "metadata": {},
   "source": [
    "#### Year Built"
   ]
  },
  {
   "cell_type": "code",
   "execution_count": null,
   "metadata": {
    "scrolled": false
   },
   "outputs": [],
   "source": [
    "bins2 = range(1850, 2021, 10)\n",
    "labels2 = []\n",
    "for year in range(1850, 2020, 10):\n",
    "              labels2.append(str(year) + \"'s\")\n",
    "dates = pd.cut(ny['yearbuilt'], bins2, labels=labels2)\n",
    "\n",
    "ny['yearbuilt_bins'] = pd.cut(ny['yearbuilt'], bins2, labels=labels2)\n",
    "ny['yearbuilt_bins'].head()"
   ]
  },
  {
   "cell_type": "markdown",
   "metadata": {},
   "source": [
    "##### Changed the code above and then updated the chart below to test different bin sizes and find appropriate cutoffs"
   ]
  },
  {
   "cell_type": "code",
   "execution_count": null,
   "metadata": {
    "scrolled": false
   },
   "outputs": [],
   "source": [
    "Year_Built = pd.DataFrame(ny['yearbuilt'].groupby(dates).count())\n",
    "Year_Built.columns = ['count']\n",
    "Year_Built.reset_index(inplace=True)\n",
    "Year_Built"
   ]
  },
  {
   "cell_type": "markdown",
   "metadata": {},
   "source": [
    "##### Another test plot to make sure this works...\n",
    "\n",
    "You can see a huge building boom in the 1920's!"
   ]
  },
  {
   "cell_type": "code",
   "execution_count": null,
   "metadata": {
    "scrolled": false
   },
   "outputs": [],
   "source": [
    "trace = go.Bar(\n",
    "    # I'm choosing BBL here because I know it's a unique key.\n",
    "    x = ny.groupby('yearbuilt_bins').count()['bbl'].index,\n",
    "    y = ny.groupby('yearbuilt_bins').count()['bbl']\n",
    ")\n",
    "\n",
    "layout = go.Layout(\n",
    "    xaxis = dict(title = 'Year Built'),\n",
    "    yaxis = dict(title = 'Number of Lots Built')\n",
    ")\n",
    "\n",
    "fig = go.Figure(data = [trace], layout = layout)\n",
    "\n",
    "py.iplot(fig)"
   ]
  },
  {
   "cell_type": "markdown",
   "metadata": {},
   "source": [
    "#### Check the new columns in our dataframe..."
   ]
  },
  {
   "cell_type": "code",
   "execution_count": null,
   "metadata": {
    "scrolled": false
   },
   "outputs": [],
   "source": [
    "ny.iloc[:, -2:].head(10)"
   ]
  },
  {
   "cell_type": "markdown",
   "metadata": {},
   "source": [
    "### Create new aggragated dataframe\n",
    "\n",
    "After trying unsuccessfully many times to use the new categorical columns that I added to the original ny dataframe, I gave up and created a new dataframe with just the aggragated data for plotting...  Even this gave me problems until I finally figured out how to reset the index here: https://github.com/pandas-dev/pandas/issues/19136 "
   ]
  },
  {
   "cell_type": "code",
   "execution_count": null,
   "metadata": {
    "scrolled": false
   },
   "outputs": [],
   "source": [
    "data = pd.DataFrame(ny['bbl'].groupby([floors, dates]).count().unstack())\n",
    "\n",
    "#data.reset_index(inplace=True)  Throws error!!!!\n",
    "\n",
    "# Got the function below here: https://github.com/pandas-dev/pandas/issues/19136\n",
    "def reset_index(df):\n",
    "  '''Returns DataFrame with index as columns'''\n",
    "  index_df = df.index.to_frame(index=False)\n",
    "  df = df.reset_index(drop=True)\n",
    "  # In merge is important the order in which you pass the dataframes\n",
    "  # if the index contains a Categorical. \n",
    "  # pd.merge(df, index_df, left_index=True, right_index=True) does not work\n",
    "  return pd.merge(index_df, df, left_index=True, right_index=True)\n",
    "\n",
    "data = reset_index(data)\n",
    "data"
   ]
  },
  {
   "cell_type": "markdown",
   "metadata": {},
   "source": [
    "### Plot data for each year\n",
    "\n",
    "After an insane amopunt of time trying all different kinds of plots and trying to tweak the labels etc...  This is the best I could come up with so far.  I still can't figure out how to fix a bunch of things that are bugging me:\n",
    "\n",
    "1. Should have axis labels on the bottom and down the let side of the entire grid, but when IO tried to add them they wound up just on the first plot.  (I removed them since they were not working right)\n",
    "2. Can't figure out how to leave the last spot in the grid blank. It automatically repeated the first trace there even though I didn't assign anything to that spot.\n",
    "3. I'm not loving the log transfromaion, but it is harder to see bars for the taller buildings with the non-log transformed data\n",
    "4. Can't figure out how to get ALL the plots to have the same y-axis, not just the same on each row...  As a result it's difficult to see the building boom in the 20's.  All the plots look like they have similar maximum numbers if you aren't paying attention to the axes.\n",
    "5. I also would have liked to have the plots go three across, but when I had 3 columns every other label on the x-axis was missing because I guess the labels would have run into each other that way and I couldn't figure out how to change the size of the text for the labels."
   ]
  },
  {
   "cell_type": "code",
   "execution_count": null,
   "metadata": {
    "scrolled": false
   },
   "outputs": [],
   "source": [
    "fig = tools.make_subplots(cols = 2, rows = 9, print_grid = False, shared_yaxes=True, \n",
    "                          subplot_titles=(data.columns[1:]))\n",
    "\n",
    "traces = []\n",
    "for y in labels2:\n",
    "    traces.append({'type' : 'bar',\n",
    "                   'name' : y,\n",
    "                   'x' : data['numfloors'].tolist(),\n",
    "                   'y' : np.log10(data[y]).tolist()\n",
    "                  })\n",
    "traces.append(traces[0])\n",
    "\n",
    "t=0\n",
    "while t < 16:\n",
    "    for r in range(1,10):\n",
    "        for c in range(1,3):\n",
    "            fig.append_trace(trace = traces[t], row = r, col = c)\n",
    "            t +=1\n",
    "\n",
    "fig['layout'].update(height=1500, width=800, title='Number of Floors - Log10 Transformed Building Counts', \n",
    "                     #xaxis = dict(title = 'Number of Floors'), yaxis = dict(title = 'Number of Lots Built'),\n",
    "                     showlegend = False)\n",
    "\n",
    "#fig = go.Figure(data = [traces[2]], layout = layout)\n",
    "\n",
    "py.iplot(fig)"
   ]
  },
  {
   "cell_type": "code",
   "execution_count": null,
   "metadata": {},
   "outputs": [],
   "source": [
    "#help(tools.make_subplots)\n",
    "fig"
   ]
  },
  {
   "cell_type": "markdown",
   "metadata": {},
   "source": [
    "# Part 2: Datashader\n",
    "\n",
    "Datashader is a library from Anaconda that does away with the need for binning data. It takes in all of your datapoints, and based on the canvas and range returns a pixel-by-pixel calculations to come up with the best representation of the data. In short, this completely eliminates the need for binning your data.\n",
    "\n",
    "As an example, lets continue with our question above and look at a 2D histogram of YearBuilt vs NumFloors:"
   ]
  },
  {
   "cell_type": "code",
   "execution_count": null,
   "metadata": {
    "scrolled": false
   },
   "outputs": [],
   "source": [
    "yearbins = 200\n",
    "floorbins = 200\n",
    "\n",
    "yearBuiltCut = pd.cut(ny['yearbuilt'], np.linspace(ny['yearbuilt'].min(), ny['yearbuilt'].max(), yearbins))\n",
    "numFloorsCut = pd.cut(ny['numfloors'], np.logspace(1, np.log(ny['numfloors'].max()), floorbins))\n",
    "\n",
    "xlabels = np.floor(np.linspace(ny['yearbuilt'].min(), ny['yearbuilt'].max(), yearbins))\n",
    "ylabels = np.floor(np.logspace(1, np.log(ny['numfloors'].max()), floorbins))\n",
    "\n",
    "data = [\n",
    "    go.Heatmap(z = ny.groupby([numFloorsCut, yearBuiltCut])['bbl'].count().unstack().fillna(0).values,\n",
    "              colorscale = 'Greens', x = xlabels, y = ylabels)\n",
    "]\n",
    "\n",
    "py.iplot(data)"
   ]
  },
  {
   "cell_type": "markdown",
   "metadata": {},
   "source": [
    "This shows us the distribution, but it's subject to some biases discussed in the Anaconda notebook [Plotting Perils](https://anaconda.org/jbednar/plotting_pitfalls/notebook). \n",
    "\n",
    "Here is what the same plot would look like in datashader:\n",
    "\n"
   ]
  },
  {
   "cell_type": "code",
   "execution_count": null,
   "metadata": {
    "scrolled": false
   },
   "outputs": [],
   "source": [
    "cvs = ds.Canvas(800, 500, x_range = (ny['yearbuilt'].min(), ny['yearbuilt'].max()), \n",
    "                                y_range = (ny['numfloors'].min(), ny['numfloors'].max()))\n",
    "agg = cvs.points(ny, 'yearbuilt', 'numfloors')\n",
    "view = tf.shade(agg, cmap = cm(Greys9), how='log')\n",
    "export(tf.spread(view, px=2), 'yearvsnumfloors')"
   ]
  },
  {
   "cell_type": "markdown",
   "metadata": {},
   "source": [
    "That's technically just a scatterplot, but the points are smartly placed and colored to mimic what one gets in a heatmap. Based on the pixel size, it will either display individual points, or will color the points of denser regions.\n",
    "\n",
    "Datashader really shines when looking at geographic information. Here are the latitudes and longitudes of our dataset plotted out, giving us a map of the city colored by density of structures:"
   ]
  },
  {
   "cell_type": "code",
   "execution_count": null,
   "metadata": {
    "scrolled": false
   },
   "outputs": [],
   "source": [
    "NewYorkCity   = (( -74.29,  -73.69), (40.49, 40.92))\n",
    "cvs = ds.Canvas(700, 700, *NewYorkCity)\n",
    "agg = cvs.points(ny, 'lon', 'lat')\n",
    "view = tf.shade(agg, cmap = cm(inferno), how='log')\n",
    "export(tf.spread(view, px=2), 'firery')"
   ]
  },
  {
   "cell_type": "markdown",
   "metadata": {},
   "source": [
    "Interestingly, since we're looking at structures, the large buildings of Manhattan show up as less dense on the map. The densest areas measured by number of lots would be single or multi family townhomes.\n",
    "\n",
    "Unfortunately, Datashader doesn't have the best documentation. Browse through the examples from their [github repo](https://github.com/bokeh/datashader/tree/master/examples). I would focus on the [visualization pipeline](https://anaconda.org/jbednar/pipeline/notebook) and the [US Census](https://anaconda.org/jbednar/census/notebook) Example for the question below. Feel free to use my samples as templates as well when you work on this problem.\n",
    "\n",
    "## Question\n",
    "\n",
    "You work for a real estate developer and are researching underbuilt areas of the city. After looking in the [Pluto data dictionary](https://www1.nyc.gov/assets/planning/download/pdf/data-maps/open-data/pluto_datadictionary.pdf?v=17v1_1), you've discovered that all tax assessments consist of two parts: The assessment of the land and assessment of the structure. You reason that there should be a correlation between these two values: more valuable land will have more valuable structures on them (more valuable in this case refers not just to a mansion vs a bungalow, but an apartment tower vs a single family home). Deviations from the norm could represent underbuilt or overbuilt areas of the city. You also recently read a really cool blog post about [bivariate choropleth maps](http://www.joshuastevens.net/cartography/make-a-bivariate-choropleth-map/), and think the technique could be used for this problem.\n",
    "\n",
    "Datashader is really cool, but it's not that great at labeling your visualization. Don't worry about providing a legend, but provide a quick explanation as to which areas of the city are overbuilt, which areas are underbuilt, and which areas are built in a way that's properly correlated with their land value."
   ]
  },
  {
   "cell_type": "code",
   "execution_count": null,
   "metadata": {},
   "outputs": [],
   "source": [
    "# assuming that this is a valid calculation?  \n",
    "# Makes sense that the total value minus the land value should equal the structure value, right?\n",
    "ny['assessstructure'] = ny['assesstot'] - ny['assessland']\n",
    "ny[['assessland', 'assessstructure', 'assesstot']].head(12)"
   ]
  },
  {
   "cell_type": "code",
   "execution_count": null,
   "metadata": {
    "scrolled": false
   },
   "outputs": [],
   "source": [
    "# Bin the data in three equal sized categories for both land value and structure value\n",
    "val_labels = ['low', 'med', 'high']\n",
    "ny['land_group'] = pd.qcut(ny['assessland'], 3, labels=val_labels)\n",
    "ny['structure_group'] = pd.qcut(ny['assessstructure'], 3, labels=val_labels)\n",
    "ny[['land_group', 'structure_group']].head(12)"
   ]
  },
  {
   "cell_type": "code",
   "execution_count": null,
   "metadata": {},
   "outputs": [],
   "source": [
    "ny['land_group'].value_counts()"
   ]
  },
  {
   "cell_type": "code",
   "execution_count": null,
   "metadata": {},
   "outputs": [],
   "source": [
    "ny['structure_group'].value_counts()"
   ]
  },
  {
   "cell_type": "code",
   "execution_count": null,
   "metadata": {},
   "outputs": [],
   "source": [
    "# Combine the two binned categories into one 9 category variable\n",
    "ny['combined_value'] = ny['land_group'].str.cat(ny['structure_group'].values.astype(str), sep='-')\n",
    "ny['combined_value'] = pd.Categorical(ny['combined_value'])\n",
    "ny['combined_value'].head(12)"
   ]
  },
  {
   "cell_type": "markdown",
   "metadata": {},
   "source": [
    "<img src=\"color_scale.png\">"
   ]
  },
  {
   "cell_type": "code",
   "execution_count": null,
   "metadata": {},
   "outputs": [],
   "source": [
    "# assign colors to the 9 categories\n",
    "# land values range from gray to bright pink and structure values range from gray to bright blue\n",
    "colors = {'low-low': '#e8e8e8',\n",
    "          'low-med': '#ace4e4',\n",
    "          'low-high': '#5ac8c8',\n",
    "          'med-low': '#dfb0d6',\n",
    "          'med-med': '#a5add3',\n",
    "          'med-high': '#5698b9',\n",
    "          'high-low': '#be64ac',\n",
    "          'high-med': '#8c62aa',\n",
    "          'high-high': '#3b4994'\n",
    "}\n",
    "\n",
    "# Plot the data\n",
    "NewYorkCity = (( -74.29,  -73.69), (40.49, 40.92))\n",
    "cvs = ds.Canvas(900, 900, *NewYorkCity)\n",
    "agg = cvs.points(ny, 'lon', 'lat', ds.count_cat('combined_value'))\n",
    "view = tf.shade(agg, color_key = colors)\n",
    "export(tf.spread(view, px=2), 'pretty_colors')"
   ]
  },
  {
   "cell_type": "markdown",
   "metadata": {},
   "source": [
    "### Conclusion\n",
    "\n",
    "Almost everything in Manhattan seems to fall within the high-high (dark-blue) category, while the outer boroughs show more variance.  There are quite a few areas in the low-med, med-high, and low-high (teal-blue) categories indicating some overbuilt areas in Brookyln and Queens, with far less of them scattered through the Bronx and Staten Island. The North Shore of Staten Island has the largest area in the brightest pink low-high category indicating underbuilt land, but there are also very large areas in the other pink/purple (med-low and high-med) colors that would indicate less extremely underbuilt areas in parts of Brooklyn and Queens that are furthest from Manhattan.  "
   ]
  },
  {
   "cell_type": "markdown",
   "metadata": {},
   "source": [
    "## Trying a different approach...\n",
    "\n",
    "Not sure about my method for cutting the data above.  If there are extreme outlier values that would actually get hidden by this approach, because I cut the data into basically 3 equal parts for low, med, and high.  So anything that is far above or far below normal would just get labeled as high or low.  So I thought maybe I should try cutting the data into thirdds based on the max and min values instead...  "
   ]
  },
  {
   "cell_type": "code",
   "execution_count": null,
   "metadata": {},
   "outputs": [],
   "source": [
    "# Get max values\n",
    "land_max = ny['assessland'].max()\n",
    "struc_max = ny['assessstructure'].max()"
   ]
  },
  {
   "cell_type": "code",
   "execution_count": null,
   "metadata": {},
   "outputs": [],
   "source": [
    "# Create bins based on max values\n",
    "land_bins = [0, land_max/3, (land_max/3)*2, land_max]\n",
    "land_bins"
   ]
  },
  {
   "cell_type": "code",
   "execution_count": null,
   "metadata": {},
   "outputs": [],
   "source": [
    "struc_bins = [0, struc_max/3, (struc_max/3)*2, struc_max]\n",
    "struc_bins"
   ]
  },
  {
   "cell_type": "markdown",
   "metadata": {},
   "source": [
    "I also checked the minimum and there were a significant number of zeros as well as very low values, so I thought to leave zero as a minimum.  The provblem is that the maximum value is so far above the rest of the values that by binning this way almost everything falls in the low category for both land assessment and structure value.  You can see the few outliers in the tables below."
   ]
  },
  {
   "cell_type": "code",
   "execution_count": null,
   "metadata": {},
   "outputs": [],
   "source": [
    "ny['land_group2'] = pd.cut(ny['assessland'], bins=land_bins, labels=val_labels)\n",
    "ny['structure_group2'] = pd.cut(ny['assessstructure'], bins=struc_bins, labels=val_labels)\n",
    "ny[['assessland', 'assessstructure', 'structure_group2']][ny['land_group2']=='med']"
   ]
  },
  {
   "cell_type": "code",
   "execution_count": null,
   "metadata": {},
   "outputs": [],
   "source": [
    "ny[['assessland', 'assessstructure', 'structure_group2']][ny['land_group2']=='high']"
   ]
  },
  {
   "cell_type": "code",
   "execution_count": null,
   "metadata": {},
   "outputs": [],
   "source": [
    "ny[['assessland', 'assessstructure', 'structure_group2']][ny['structure_group2']=='med']"
   ]
  },
  {
   "cell_type": "code",
   "execution_count": null,
   "metadata": {},
   "outputs": [],
   "source": [
    "ny[['assessland', 'assessstructure', 'structure_group2']][ny['structure_group2']=='high']"
   ]
  },
  {
   "cell_type": "markdown",
   "metadata": {},
   "source": [
    "## Trying a log transformation...\n",
    "\n",
    "So next I thought maybe a log transformation on the assessment varibles first might solve the problem... "
   ]
  },
  {
   "cell_type": "code",
   "execution_count": null,
   "metadata": {},
   "outputs": [],
   "source": [
    "# Get log transfromed data, fill NA's and neg infinity with zeros\n",
    "log_land = np.log(ny['assessland']).fillna(0)\n",
    "log_structure = np.log(ny['assessstructure']).fillna(0)\n",
    "from numpy import isneginf\n",
    "log_land[isneginf(log_land)]=0\n",
    "log_structure[isneginf(log_structure)]=0"
   ]
  },
  {
   "cell_type": "markdown",
   "metadata": {},
   "source": [
    "#### Visualization of the log transformed land values\n",
    "\n",
    "Even after log transforming the data, there is still a strong skew in the land values."
   ]
  },
  {
   "cell_type": "code",
   "execution_count": null,
   "metadata": {},
   "outputs": [],
   "source": [
    "trace = go.Histogram(\n",
    "    x = log_land,\n",
    "    nbinsx = 100\n",
    ")\n",
    "\n",
    "layout = go.Layout(\n",
    "    xaxis = dict(title = 'log assessland')\n",
    ")\n",
    "\n",
    "fig = go.Figure(data = [trace], layout = layout)\n",
    "\n",
    "py.iplot(fig)"
   ]
  },
  {
   "cell_type": "markdown",
   "metadata": {},
   "source": [
    "#### Visualization of the log transformed structure values\n",
    "\n",
    "Similarly, there is still a strong skew in the structure values even after log transforming the data as well."
   ]
  },
  {
   "cell_type": "code",
   "execution_count": null,
   "metadata": {},
   "outputs": [],
   "source": [
    "trace = go.Hist##### Visualization of the log transformed land valuesogram(\n",
    "    x = log_structure,\n",
    "    nbinsx = 100\n",
    ")\n",
    "\n",
    "layout = go.Layout(\n",
    "    xaxis = dict(title = 'log assessstructure')\n",
    ")\n",
    "\n",
    "fig = go.Figure(data = [trace], layout = layout)\n",
    "\n",
    "py.iplot(fig)"
   ]
  },
  {
   "cell_type": "markdown",
   "metadata": {},
   "source": [
    "#### That's a little better, so let's try binning that..."
   ]
  },
  {
   "cell_type": "code",
   "execution_count": null,
   "metadata": {},
   "outputs": [],
   "source": [
    "# Get max log transformed values\n",
    "log_land_max = log_land.max()\n",
    "log_struc_max = log_structure.max()"
   ]
  },
  {
   "cell_type": "code",
   "execution_count": null,
   "metadata": {},
   "outputs": [],
   "source": [
    "# Create bins based on max log transformed values\n",
    "log_land_bins = [-10, log_land_max/3, (log_land_max/3)*2, log_land_max+1]\n",
    "log_land_bins"
   ]
  },
  {
   "cell_type": "code",
   "execution_count": null,
   "metadata": {},
   "outputs": [],
   "source": [
    "log_struc_bins = [-10, log_struc_max/3, (log_struc_max/3)*2, log_struc_max+1]\n",
    "log_struc_bins"
   ]
  },
  {
   "cell_type": "code",
   "execution_count": null,
   "metadata": {},
   "outputs": [],
   "source": [
    "ny['land_group3'] = pd.cut(log_land, bins=log_land_bins, labels=val_labels)\n",
    "ny['structure_group3'] = pd.cut(log_structure, bins=log_struc_bins, labels=val_labels)\n",
    "ny[['assessland', 'assessstructure', 'land_group3', 'structure_group3']].head(12)"
   ]
  },
  {
   "cell_type": "code",
   "execution_count": null,
   "metadata": {},
   "outputs": [],
   "source": [
    "ny['combined_value3'] = ny['land_group3'].str.cat(ny['structure_group3'].values.astype(str), sep='-')\n",
    "ny['combined_value3'] = pd.Categorical(ny['combined_value3'])\n",
    "ny['combined_value3'].head()"
   ]
  },
  {
   "cell_type": "code",
   "execution_count": null,
   "metadata": {},
   "outputs": [],
   "source": [
    "ny['combined_value3'].value_counts()"
   ]
  },
  {
   "cell_type": "markdown",
   "metadata": {},
   "source": [
    "#### Well, that is not very encouraging.  Most of the values seem to be falling in the med-med category now, but let's keep going, plot it anyway, and see what we get."
   ]
  },
  {
   "cell_type": "code",
   "execution_count": null,
   "metadata": {},
   "outputs": [],
   "source": [
    "# Plot the data\n",
    "NewYorkCity = (( -74.29,  -73.69), (40.49, 40.92))\n",
    "cvs = ds.Canvas(900, 900, *NewYorkCity)\n",
    "agg = cvs.points(ny, 'lon', 'lat', ds.count_cat('combined_value3'))\n",
    "view = tf.shade(agg, color_key = colors)\n",
    "export(tf.spread(view, px=2), 'pretty_colors')"
   ]
  },
  {
   "cell_type": "markdown",
   "metadata": {},
   "source": [
    "### Conclusion\n",
    "\n",
    "So this was worth trying I guess, but not very useful or informative.  Almost everything seems to fall within the med-med category, and nothing in the bright pink low-high (land-structure) category or even any pink/purple colors that would indicate underbuilt areas.  There are, however, some in the low-med and med-high blue teal colors indicating some possibly overbuilt areas. Possibly tweaking the bins so that they aren't exact thirds of the maximum value might make this plot more useful."
   ]
  },
  {
   "cell_type": "markdown",
   "metadata": {},
   "source": [
    "### One more time...  \n",
    "Let's reduce the medium range by just adding 2 to the lower end and subtracting 2 from the higher end."
   ]
  },
  {
   "cell_type": "code",
   "execution_count": null,
   "metadata": {},
   "outputs": [],
   "source": [
    "log_land_bins = [-10, (log_land_max/3)+2, ((log_land_max/3)*2)-2, log_land_max+1]\n",
    "log_struc_bins = [-10, (log_struc_max/3)+2, ((log_struc_max/3)*2)-2, log_struc_max+1]\n",
    "ny['land_group4'] = pd.cut(log_land, bins=log_land_bins, labels=val_labels)\n",
    "ny['structure_group4'] = pd.cut(log_structure, bins=log_struc_bins, labels=val_labels)\n",
    "ny['combined_value4'] = ny['land_group4'].str.cat(ny['structure_group4'].values.astype(str), sep='-')\n",
    "ny['combined_value4'] = pd.Categorical(ny['combined_value4'])\n",
    "ny['combined_value4'].value_counts()"
   ]
  },
  {
   "cell_type": "code",
   "execution_count": null,
   "metadata": {},
   "outputs": [],
   "source": [
    "# Plot the data\n",
    "NewYorkCity = (( -74.29,  -73.69), (40.49, 40.92))\n",
    "cvs = ds.Canvas(900, 900, *NewYorkCity)\n",
    "agg = cvs.points(ny, 'lon', 'lat', ds.count_cat('combined_value4'))\n",
    "view = tf.shade(agg, color_key = colors)\n",
    "export(tf.spread(view, px=2), 'pretty_colors')"
   ]
  },
  {
   "cell_type": "markdown",
   "metadata": {},
   "source": [
    "### Conclusion\n",
    "\n",
    "Adjusting the bins give us a much better picture.  Quite a lot more slightly overbuilt teal blue low-med areas show up all over the outer boroughs, and some med-high areas in the Bronx.  Still almost no underbuilt areas in pink though, except for a few tiny spots scattered around the areas furthest from the city, and especially at the Brooklyn-Queens border and on the North Shore of Staten Island.  Since the assessment data was so highly skewed, this may be a more accurate representation of the data than our original plot.  An image that shows the city as much more overbuilt than underbuilt also seems more likely based on what I know about the city.  It also shows some more variation in Manhattan that was completely lost in the original plot."
   ]
  },
  {
   "cell_type": "code",
   "execution_count": null,
   "metadata": {},
   "outputs": [],
   "source": []
  }
 ],
 "metadata": {
  "kernelspec": {
   "display_name": "Python 3",
   "language": "python",
   "name": "python3"
  },
  "language_info": {
   "codemirror_mode": {
    "name": "ipython",
    "version": 3
   },
   "file_extension": ".py",
   "mimetype": "text/x-python",
   "name": "python",
   "nbconvert_exporter": "python",
   "pygments_lexer": "ipython3",
   "version": "3.6.8"
  }
 },
 "nbformat": 4,
 "nbformat_minor": 2
}
